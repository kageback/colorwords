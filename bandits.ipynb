{
 "cells": [
  {
   "cell_type": "code",
   "execution_count": 2,
   "metadata": {},
   "outputs": [
    {
     "name": "stdout",
     "output_type": "stream",
     "text": [
      "Package              Version   \n",
      "-------------------- ----------\n",
      "appdirs              1.4.3     \n",
      "appnope              0.1.0     \n",
      "attrs                19.3.0    \n",
      "backcall             0.1.0     \n",
      "beautifulsoup4       4.8.2     \n",
      "bleach               3.1.0     \n",
      "bs4                  0.0.1     \n",
      "certifi              2019.11.28\n",
      "chardet              3.0.4     \n",
      "cssselect            1.1.0     \n",
      "cycler               0.10.0    \n",
      "Cython               0.29.16   \n",
      "DateTime             4.3       \n",
      "decorator            4.4.1     \n",
      "defusedxml           0.6.0     \n",
      "entrypoints          0.3       \n",
      "fake-useragent       0.1.11    \n",
      "googlefinance        0.7       \n",
      "googlefinance.client 1.3.1     \n",
      "idna                 2.8       \n",
      "iexfinance           0.4.3     \n",
      "importlib-metadata   1.5.0     \n",
      "ipykernel            5.1.4     \n",
      "ipynb                0.5.1     \n",
      "ipython              7.12.0    \n",
      "ipython-genutils     0.2.0     \n",
      "jedi                 0.16.0    \n",
      "Jinja2               2.11.1    \n",
      "joblib               0.14.1    \n",
      "json5                0.9.1     \n",
      "jsonschema           3.2.0     \n",
      "jupyter-client       5.3.4     \n",
      "jupyter-core         4.6.2     \n",
      "jupyterlab           1.2.6     \n",
      "jupyterlab-server    1.0.6     \n",
      "kiwisolver           1.1.0     \n",
      "llvmlite             0.31.0    \n",
      "lxml                 4.5.0     \n",
      "MarkupSafe           1.1.1     \n",
      "matplotlib           3.1.3     \n",
      "mistune              0.8.4     \n",
      "nbconvert            5.6.1     \n",
      "nbformat             5.0.4     \n",
      "notebook             6.0.3     \n",
      "numba                0.48.0    \n",
      "numpy                1.18.1    \n",
      "pandas               1.0.1     \n",
      "pandocfilters        1.4.2     \n",
      "parse                1.14.0    \n",
      "parso                0.6.1     \n",
      "pexpect              4.8.0     \n",
      "pickleshare          0.7.5     \n",
      "pip                  19.0.3    \n",
      "prometheus-client    0.7.1     \n",
      "prompt-toolkit       3.0.3     \n",
      "ptyprocess           0.6.0     \n",
      "pyee                 7.0.1     \n",
      "Pygments             2.5.2     \n",
      "pyparsing            2.4.6     \n",
      "pyppeteer            0.0.25    \n",
      "pyquery              1.4.1     \n",
      "pyrsistent           0.15.7    \n",
      "python-dateutil      2.8.1     \n",
      "pytz                 2019.3    \n",
      "pyzmq                18.1.1    \n",
      "requests             2.22.0    \n",
      "requests-html        0.10.0    \n",
      "scikit-learn         0.22.1    \n",
      "scipy                1.4.1     \n",
      "Send2Trash           1.5.0     \n",
      "setuptools           40.8.0    \n",
      "six                  1.14.0    \n",
      "soupsieve            1.9.5     \n",
      "terminado            0.8.3     \n",
      "testpath             0.4.4     \n",
      "torch                1.4.0     \n",
      "tornado              6.0.3     \n",
      "tqdm                 4.42.1    \n",
      "traitlets            4.3.3     \n",
      "urllib3              1.25.8    \n",
      "w3lib                1.21.0    \n",
      "wcwidth              0.1.8     \n",
      "webencodings         0.5.1     \n",
      "websockets           8.1       \n",
      "yahoo-fin            0.8.4     \n",
      "zipp                 2.2.0     \n",
      "zope.interface       4.7.1     \n"
     ]
    },
    {
     "name": "stderr",
     "output_type": "stream",
     "text": [
      "You are using pip version 19.0.3, however version 20.0.2 is available.\n",
      "You should consider upgrading via the 'pip install --upgrade pip' command.\n"
     ]
    },
    {
     "data": {
      "text/plain": [
       "0"
      ]
     },
     "execution_count": 2,
     "metadata": {},
     "output_type": "execute_result"
    }
   ],
   "source": [
    "import numpy as np\n",
    "import matplotlib.pyplot as plt\n",
    "from pip import _internal\n",
    "#_internal.main(['list'])"
   ]
  },
  {
   "cell_type": "code",
   "execution_count": 3,
   "metadata": {},
   "outputs": [
    {
     "data": {
      "text/plain": [
       "[<matplotlib.lines.Line2D at 0x127cd8a10>]"
      ]
     },
     "execution_count": 3,
     "metadata": {},
     "output_type": "execute_result"
    },
    {
     "data": {
      "image/png": "[encoded data removed]",
      "text/plain": [
       "<Figure size 432x288 with 1 Axes>"
      ]
     },
     "metadata": {
      "needs_background": "light"
     },
     "output_type": "display_data"
    }
   ],
   "source": [
    "# load env dist\n",
    "N = 20\n",
    "ngram = np.load('../colorwords/data/ngram.npy')\n",
    "env = ngram[0:N] / np.sum(ngram[0:N])\n",
    "plt.plot(1 + np.arange(N),env)"
   ]
  },
  {
   "cell_type": "code",
   "execution_count": 5,
   "metadata": {},
   "outputs": [],
   "source": [
    "# Bandit class\n",
    "from numpy.random import beta\n",
    "# Standard bandit\n",
    "class Beta_Bandit:\n",
    "    def __init__(self, n_contexts, n_arms):\n",
    "        self.n_contexts = n_contexts\n",
    "        self.n_arms = n_arms\n",
    "        self.belief = self.ini_belief()\n",
    "        \n",
    "    def update_belief(self, context, arm, r):\n",
    "        self.belief[context][arm]['alpha'] += r\n",
    "        self.belief[context][arm]['beta'] += 1 - r\n",
    "        \n",
    "    def ini_belief(self):\n",
    "        belief = {}\n",
    "        for context in range(self.n_contexts):\n",
    "            belief[context] = {}\n",
    "            for arm in range(self.n_arms):\n",
    "                belief[context][arm] = {'alpha' : 1.0, 'beta' : 1.0}\n",
    "        return belief \n",
    "    \n",
    "    def sample(self, context):\n",
    "        thetas = []\n",
    "        for arm in range(self.n_arms):\n",
    "            thetas.append(beta(self.belief[context][arm]['alpha'], self.belief[context][arm]['beta']))\n",
    "        return np.argmax(np.array(thetas))\n",
    "    \n",
    "    def argmax(self, context):\n",
    "        thetas = []\n",
    "        for arm in range(self.n_arms):\n",
    "            mean = self.belief[context][arm]['alpha'] / (self.belief[context][arm]['alpha'] + self.belief[context][arm]['beta'])\n",
    "            thetas.append(mean)\n",
    "        return np.argmax(np.array(thetas))\n",
    "\n",
    "    def fraction_response(self, T=1000):\n",
    "        # p(w|i), \"How often word w is used to describe context i\n",
    "        fraction_response = {}\n",
    "        for context in range(self.n_contexts):\n",
    "            counts = np.zeros(self.n_arms)\n",
    "            for _ in range(T):\n",
    "                arm = self.sample(context=context)\n",
    "                counts[arm] += 1\n",
    "            fraction_response[context] = counts/T\n",
    "        return fraction_response\n",
    "\n",
    "# Reward funcs\n",
    "def binary(context, guess):\n",
    "    return int(context == guess)\n",
    "\n"
   ]
  },
  {
   "cell_type": "code",
   "execution_count": 10,
   "metadata": {},
   "outputs": [],
   "source": [
    "# Train chain of bandits\n",
    "from copy import deepcopy\n",
    "def train_bandits(bandit_chain, env, N, reward_func=binary):\n",
    "    regret = [0]\n",
    "    avg_reward = [0]\n",
    "    counter = 1\n",
    "    for i in range(T):\n",
    "        # Play\n",
    "        arm = np.random.choice(np.arange(N), p = env)\n",
    "        y = deepcopy(arm)\n",
    "        context_list = []\n",
    "        arm_list = []\n",
    "        for bandit in bandit_chain:\n",
    "            context = deepcopy(arm)\n",
    "            arm = bandit.sample(context=context)\n",
    "            arm_list.append(deepcopy(arm))\n",
    "            context_list.append(deepcopy(context))\n",
    "        # Compute reward/regret\n",
    "        r = reward_func(y, arm)\n",
    "        regret.append(1 - r)\n",
    "        avg_reward.append(avg_reward[-1] + (r - avg_reward[-1])/counter)\n",
    "        counter += 1\n",
    "        # Update belief of each agent\n",
    "        for k in range(len(bandit_chain)):\n",
    "            context = context_list[k]\n",
    "            arm = arm_list[k]\n",
    "            bandit_chain[k].update_belief(context=context, arm=arm, r=r)\n",
    "\n",
    "    regret = np.array(regret)\n",
    "    total_regret = np.cumsum(regret)\n",
    "    return total_regret, avg_reward\n",
    "\n",
    "def eval_agents(bandit_chain, n_contexts, reward_func=binary):\n",
    "    r = 0\n",
    "    for n in range(n_contexts):\n",
    "        arm = deepcopy(n)\n",
    "        for bandit in bandit_chain:\n",
    "            context = deepcopy(arm)\n",
    "            arm = bandit.argmax(context=context)\n",
    "        r += reward_func(n, arm)\n",
    "    return r / n_contexts\n",
    "\n",
    "# Batch train bandits (not very efficient). To do: enable Numba\n",
    "def batch_train_bandits(bandit_chain, env, N, reward_func=binary, batch_size=10):\n",
    "    regret = [0]\n",
    "    avg_reward = [0]\n",
    "    counter = 1\n",
    "    for i in range(T):\n",
    "        # Play\n",
    "        batch_history = []\n",
    "        # Run batch\n",
    "        for j in range(batch_size):\n",
    "            arm = np.random.choice(np.arange(N), p = env)\n",
    "            y = deepcopy(arm)\n",
    "            context_list = []\n",
    "            arm_list = []\n",
    "            for bandit in bandit_chain:\n",
    "                context = deepcopy(arm)\n",
    "                arm = bandit.sample(context=context)\n",
    "                arm_list.append(deepcopy(arm))\n",
    "                context_list.append(deepcopy(context))\n",
    "            # Compute reward/regret\n",
    "            r = reward_func(y, arm)\n",
    "            batch_history.append((context_list, arm_list, r))\n",
    "            \n",
    "        # Update belief of each agent\n",
    "        batch_average = 0\n",
    "        for j in range(batch_size):\n",
    "            context_list, arm_list, r = batch_history[j]\n",
    "            batch_average = batch_average + (r - batch_average)/(j + 1)\n",
    "            for k in range(len(bandit_chain)):\n",
    "                context = context_list[k]\n",
    "                arm = arm_list[k]\n",
    "                bandit_chain[k].update_belief(context=context, arm=arm, r=r)\n",
    "        # Log metrics     \n",
    "        regret.append(1 - batch_average)\n",
    "        avg_reward.append(avg_reward[-1] + (batch_average - avg_reward[-1])/counter)\n",
    "        counter += 1\n",
    "\n",
    "    # Clean-up\n",
    "    regret = np.array(regret)\n",
    "    total_regret = np.cumsum(regret)\n",
    "    return total_regret, avg_reward"
   ]
  },
  {
   "cell_type": "code",
   "execution_count": 7,
   "metadata": {},
   "outputs": [
    {
     "name": "stdout",
     "output_type": "stream",
     "text": [
      "Acc: 0.85\n"
     ]
    },
    {
     "name": "stderr",
     "output_type": "stream",
     "text": [
      "/Users/caremil/.pyenv/versions/finance/lib/python3.7/site-packages/IPython/core/pylabtools.py:132: UserWarning: Creating legend with loc=\"best\" can be slow with large amounts of data.\n",
      "  fig.canvas.print_figure(bytes_io, **kw)\n"
     ]
    },
    {
     "data": {
      "image/png": "[encoded data removed]",
      "text/plain": [
       "<Figure size 432x288 with 1 Axes>"
      ]
     },
     "metadata": {
      "needs_background": "light"
     },
     "output_type": "display_data"
    }
   ],
   "source": [
    "# 2 bandit test\n",
    "# Test run\n",
    "T = 100000\n",
    "W = 20\n",
    "\n",
    "sender = Beta_Bandit(N, W)\n",
    "listener = Beta_Bandit(W, N)\n",
    "bandit_chain = [sender, listener]\n",
    "total_regret, avg_reward = train_bandits(bandit_chain, env, N)\n",
    "\n",
    "plt.xlabel('t')\n",
    "plt.ylabel('Cumulative Regret')\n",
    "plt.plot(total_regret) \n",
    "x = np.linspace(0.1, T, T)\n",
    "O_bound = 1/3  * np.sqrt(N ** (2) * x * np.log(N ** (2) * x))\n",
    "plt.plot(x, O_bound)\n",
    "plt.legend(['TS Contextual Bandits', 'Regret bound for MATS'])\n",
    "r = eval_agents(bandit_chain, n_contexts=N)\n",
    "print('Acc: {}'.format(r))"
   ]
  },
  {
   "cell_type": "code",
   "execution_count": 8,
   "metadata": {},
   "outputs": [
    {
     "data": {
      "text/plain": [
       "[<matplotlib.lines.Line2D at 0x12957f750>]"
      ]
     },
     "execution_count": 8,
     "metadata": {},
     "output_type": "execute_result"
    },
    {
     "data": {
      "image/png": "[encoded data removed]",
      "text/plain": [
       "<Figure size 432x288 with 1 Axes>"
      ]
     },
     "metadata": {
      "needs_background": "light"
     },
     "output_type": "display_data"
    }
   ],
   "source": [
    "# Avg Reward\n",
    "plt.plot(avg_reward)"
   ]
  },
  {
   "cell_type": "code",
   "execution_count": 11,
   "metadata": {},
   "outputs": [
    {
     "name": "stdout",
     "output_type": "stream",
     "text": [
      "Acc: 0.85\n"
     ]
    },
    {
     "data": {
      "image/png": "[encoded data removed]",
      "text/plain": [
       "<Figure size 432x288 with 1 Axes>"
      ]
     },
     "metadata": {
      "needs_background": "light"
     },
     "output_type": "display_data"
    }
   ],
   "source": [
    "# 2 bandit with batch update\n",
    "# Test run\n",
    "T = 10000\n",
    "W = 20\n",
    "\n",
    "sender = Beta_Bandit(N, W)\n",
    "listener = Beta_Bandit(W, N)\n",
    "bandit_chain = [sender, listener]\n",
    "total_regret, avg_reward = batch_train_bandits(bandit_chain, env, N)\n",
    "\n",
    "plt.xlabel('t')\n",
    "plt.ylabel('Cumulative Regret')\n",
    "plt.plot(total_regret) \n",
    "x = np.linspace(0.1, T, T)\n",
    "O_bound = 1/3  * np.sqrt(N ** (2) * x * np.log(N ** (2) * x))\n",
    "plt.plot(x, O_bound)\n",
    "plt.legend(['TS Contextual Bandits', 'Regret bound for MATS'])\n",
    "r = eval_agents(bandit_chain, n_contexts=N)\n",
    "print('Acc: {}'.format(r))"
   ]
  },
  {
   "cell_type": "code",
   "execution_count": 20,
   "metadata": {},
   "outputs": [
    {
     "name": "stdout",
     "output_type": "stream",
     "text": [
      "Acc: 0.65\n"
     ]
    },
    {
     "data": {
      "image/png": "[encoded data removed]",
      "text/plain": [
       "<Figure size 432x288 with 1 Axes>"
      ]
     },
     "metadata": {
      "needs_background": "light"
     },
     "output_type": "display_data"
    }
   ],
   "source": [
    "# K-bandits\n",
    "T = 100000\n",
    "W = 20\n",
    "K = 3\n",
    "\n",
    "bandit_chain = []\n",
    "sender = Beta_Bandit(N, W)\n",
    "bandit_chain.append(sender)\n",
    "\n",
    "for i in range(K-2):\n",
    "    bandit_chain.append(Beta_Bandit(W,W))\n",
    "    \n",
    "listener = Beta_Bandit(W, N)\n",
    "bandit_chain.append(listener)\n",
    "\n",
    "total_regret = train_bandits(bandit_chain, env, N)\n",
    "\n",
    "plt.xlabel('t')\n",
    "plt.ylabel('Cumulative Regret')\n",
    "plt.plot(total_regret) \n",
    "x = np.linspace(0.1, T, T)\n",
    "O_bound = 1/10  * np.sqrt(N ** (K) * x * np.log(N ** (K) * x))\n",
    "plt.plot(x, O_bound)\n",
    "plt.legend(['TS Contextual Bandits', 'Regret bound for MATS'])\n",
    "r = eval_agents(bandit_chain, n_contexts=N)\n",
    "print('Acc: {}'.format(r))"
   ]
  },
  {
   "cell_type": "code",
   "execution_count": null,
   "metadata": {},
   "outputs": [],
   "source": []
  }
 ],
 "metadata": {
  "kernelspec": {
   "display_name": "Python 3",
   "language": "python",
   "name": "python3"
  },
  "language_info": {
   "codemirror_mode": {
    "name": "ipython",
    "version": 3
   },
   "file_extension": ".py",
   "mimetype": "text/x-python",
   "name": "python",
   "nbconvert_exporter": "python",
   "pygments_lexer": "ipython3",
   "version": "3.7.4"
  }
 },
 "nbformat": 4,
 "nbformat_minor": 4
}
